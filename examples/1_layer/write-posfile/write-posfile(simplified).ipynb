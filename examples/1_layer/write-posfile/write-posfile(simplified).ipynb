{
 "cells": [
  {
   "cell_type": "code",
   "execution_count": 1,
   "id": "0cde75c8",
   "metadata": {},
   "outputs": [],
   "source": [
    "#adapted from write-inputs-cluster (Ivan)\n",
    "import numpy as np"
   ]
  },
  {
   "cell_type": "code",
   "execution_count": 2,
   "id": "c804dfb1",
   "metadata": {},
   "outputs": [],
   "source": [
    "### Read j data ###\n",
    "dataj_imp = np.loadtxt('jij.fe.layer.rot')\n",
    "\n",
    "### Definitions ####\n",
    "size_x = 80 # size of the spin lattice\n",
    "size_y = 40\n",
    "va = [0.707000,0.000000,0] ## primitive vector 1 of the lattice\n",
    "vb = [0.353500,0.612300,0] ## primitive vector 2 of the lattice\n",
    "pos_imp = 1 # position (site number) of the impurity on jfile.imp"
   ]
  },
  {
   "cell_type": "code",
   "execution_count": 3,
   "id": "0b87f642",
   "metadata": {},
   "outputs": [],
   "source": [
    "maxn = 0\n",
    "for i in range(len(va)):\n",
    "    # str(va[i])[::-1] invert the reading of the component i of vector va and .find('.') takes the position of the string\n",
    "    # where the '.' is. In the end we find how many decimal places the number has.\n",
    "    if int(str(va[i])[::-1].find('.')) >= maxn:\n",
    "        maxn = int(str(va[i])[::-1].find('.'))\n",
    "    # same logic but now for vb, we keep safe the maximal number of decimal places based on the 2 vectors\n",
    "    if int(str(vb[i])[::-1].find('.')) >= maxn:\n",
    "        maxn = int(str(vb[i])[::-1].find('.'))\n",
    "# the previous lines are useful for general primitve vectors\n",
    "\n",
    "\n",
    "#index_imp = list(map(int, list(set(dataj_imp.transpose()[0]))))\n",
    "#print(index_imp)\n",
    "#index_imp.remove(pos_imp)\n",
    "#print(index_imp, maxn)\n",
    "# NOT USED"
   ]
  },
  {
   "cell_type": "code",
   "execution_count": 4,
   "id": "13a0d174",
   "metadata": {},
   "outputs": [
    {
     "name": "stdout",
     "output_type": "stream",
     "text": [
      "[ok]\n"
     ]
    }
   ],
   "source": [
    "atom = 0 ; positions = [] ; center = 0\n",
    "NAME=str(size_x)+'x'+str(size_y)\n",
    "\n",
    "\n",
    " #value between 0 and 1 to specify the position of the cluster inside the lattice\n",
    "fx = 1/2  \n",
    "fy = 1/2 \n",
    "\n",
    "mean_x = round(size_x*fx)\n",
    "mean_y = round(size_y*fy)\n",
    "for i in range(size_x):\n",
    "    for j in range(size_y):\n",
    "        p = (np.multiply(va,i)+np.multiply(vb,j))\n",
    "        # for center use i=mean_x and j=mean_y\n",
    "        positions.append(p.tolist())\n",
    "        if i == mean_x and j == mean_y:\n",
    "            center = size_y*mean_x+mean_y+1 #index in lattice of pos_imp for the inclusion of cluster\n",
    "positions = np.round(positions, decimals=maxn).tolist() #list of lattice position --> posfile will have ALL the lattice\n",
    "print('[ok]')"
   ]
  },
  {
   "cell_type": "code",
   "execution_count": 9,
   "id": "5a94ffbe",
   "metadata": {},
   "outputs": [
    {
     "name": "stdout",
     "output_type": "stream",
     "text": [
      "writing file posfile_clus and separting cluster atoms index in lattice \n",
      "2 [36.764 12.246  0.   ]\n",
      "3 [36.4105 11.6337  0.    ]\n",
      "4 [36.057  11.0214  0.    ]\n",
      "5 [36.4105 12.8583  0.    ]\n",
      "6 [36.057 12.246  0.   ]\n",
      "7 [35.7035 11.6337  0.    ]\n",
      "8 [35.35   11.0214  0.    ]\n",
      "9 [36.057  13.4706  0.    ]\n",
      "10 [35.7035 12.8583  0.    ]\n",
      "11 [34.9965 11.6337  0.    ]\n",
      "12 [34.643  11.0214  0.    ]\n",
      "13 [35.35   13.4706  0.    ]\n",
      "14 [34.9965 12.8583  0.    ]\n",
      "15 [34.643 12.246  0.   ]\n",
      "16 [34.2895 11.6337  0.    ]\n",
      "17 [34.643  13.4706  0.    ]\n",
      "18 [34.2895 12.8583  0.    ]\n",
      "19 [33.936 12.246  0.   ]\n",
      "[1621, 1701, 1700, 1699, 1662, 1661, 1660, 1659, 1623, 1622, 1620, 1619, 1583, 1582, 1581, 1580, 1543, 1542, 1541]\n",
      "[ok]\n"
     ]
    }
   ],
   "source": [
    "### write \"pure\" impurity interactions\n",
    "#   and write posfile in tha same order firstly defined\n",
    "print('writing file posfile_clus and separting cluster atoms index in lattice \\n', end='')\n",
    "posclus = open('posfile_clus_'+NAME, 'w')\n",
    "\n",
    "interactions_center = list(np.where(dataj_imp[:,0]==pos_imp)[0])       #index in list of cluster atoms\n",
    "dataj_imp_vec_center = dataj_imp[interactions_center,2:5]              #cluster atoms relative positions in respect to pos_imp\n",
    "\n",
    "all_sites_imp = [] #index in lattice of cluster atoms with center, ordered as firstly defined\n",
    "\n",
    "all_sites_imp.append(center)\n",
    "print('%3s%3s' %(1, 1)  + '{0:12.6f} {1:12.6f} {2:12.6f}'.format(*positions[center-1]), file = posclus)\n",
    "\n",
    "\n",
    "for i in range(len(dataj_imp_vec_center)):\n",
    "    pos_now = np.add(positions[center-1],dataj_imp_vec_center[i]) #from center, finding position in lattice of cluster atoms\n",
    "    pos_now = np.round(pos_now, decimals=maxn) \n",
    "    #print(i+2, pos_now)\n",
    "    print('%3s%3s' %(i+2, i+2)  + '{0:12.6f} {1:12.6f} {2:12.6f}'.format(*pos_now), file = posclus)\n",
    "    \n",
    "    ind = int(positions.index(list(pos_now)))+1 #finding index in lattice from position\n",
    "    all_sites_imp.append(ind)\n",
    "\n",
    "#print(all_sites_imp)\n",
    "posclus.close()\n",
    "print('[ok]')\n",
    "# posfile made keeping the order of index as in cluster definition"
   ]
  },
  {
   "cell_type": "code",
   "execution_count": 11,
   "id": "47ecb2c5",
   "metadata": {},
   "outputs": [
    {
     "name": "stdout",
     "output_type": "stream",
     "text": [
      "writing file .xyz \n",
      "[33.936 12.246  0.   ] 1541\n",
      "[34.2895 12.8583  0.    ] 1542\n",
      "[34.643  13.4706  0.    ] 1543\n",
      "[34.2895 11.6337  0.    ] 1580\n",
      "[34.643 12.246  0.   ] 1581\n",
      "[34.9965 12.8583  0.    ] 1582\n",
      "[35.35   13.4706  0.    ] 1583\n",
      "[34.643  11.0214  0.    ] 1619\n",
      "[34.9965 11.6337  0.    ] 1620\n",
      "[35.35  12.246  0.   ] 1621\n",
      "[35.7035 12.8583  0.    ] 1622\n",
      "[36.057  13.4706  0.    ] 1623\n",
      "[35.35   11.0214  0.    ] 1659\n",
      "[35.7035 11.6337  0.    ] 1660\n",
      "[36.057 12.246  0.   ] 1661\n",
      "[36.4105 12.8583  0.    ] 1662\n",
      "[36.057  11.0214  0.    ] 1699\n",
      "[36.4105 11.6337  0.    ] 1700\n",
      "[36.764 12.246  0.   ] 1701\n",
      "[ok]\n"
     ]
    }
   ],
   "source": [
    "### write a *.xyz file with 'Fe' format as the impurities and 'Nb' as the pristine\n",
    "#   index order of atoms cluster respect lattice index order\n",
    "print('writing file .xyz \\n', end='')\n",
    "system_file = open('system_'+NAME+'.xyz', 'w')\n",
    "\n",
    "print(str(len(positions)) + '\\n', file = system_file)\n",
    "count = 1\n",
    "for i in range(len(positions)):\n",
    "    pos_now = positions[i]\n",
    "    pos_now = np.round(pos_now, decimals=maxn)\n",
    "    if i+1 in all_sites_imp:\n",
    "        print(\"Nb \" + '{0:12.6f} {1:12.6f} {2:12.6f}'.format(*pos_now), file = system_file)\n",
    "        print(pos_now, i+1)\n",
    "        count += 1\n",
    "    else:\n",
    "        print(\"Fe\" + '{0:12.6f} {1:12.6f} {2:12.6f}'.format(*pos_now), file = system_file)\n",
    "\n",
    "system_file.close()\n",
    "\n",
    "print('[ok]')"
   ]
  },
  {
   "cell_type": "code",
   "execution_count": 18,
   "id": "5704425e",
   "metadata": {},
   "outputs": [
    {
     "name": "stdout",
     "output_type": "stream",
     "text": [
      "['35.350000', '12.246000', '0.000000']\n",
      "[0.0, 0.0, 0.0]\n",
      "[1.4140000000000015, 0.0, 0.0]\n",
      "[1.0604999999999976, -0.6123000000000012, 0.0]\n",
      "[0.7070000000000007, -1.2246000000000006, 0.0]\n",
      "[1.0604999999999976, 0.6122999999999994, 0.0]\n",
      "[0.7070000000000007, 0.0, 0.0]\n",
      "[0.3534999999999968, -0.6123000000000012, 0.0]\n",
      "[0.0, -1.2246000000000006, 0.0]\n",
      "[0.7070000000000007, 1.2245999999999988, 0.0]\n",
      "[0.3534999999999968, 0.6122999999999994, 0.0]\n",
      "[-0.3535000000000039, -0.6123000000000012, 0.0]\n",
      "[-0.7070000000000007, -1.2246000000000006, 0.0]\n",
      "[0.0, 1.2245999999999988, 0.0]\n",
      "[-0.3535000000000039, 0.6122999999999994, 0.0]\n",
      "[-0.7070000000000007, 0.0, 0.0]\n",
      "[-1.0605000000000047, -0.6123000000000012, 0.0]\n",
      "[-0.7070000000000007, 1.2245999999999988, 0.0]\n",
      "[-1.0605000000000047, 0.6122999999999994, 0.0]\n",
      "[-1.4140000000000015, 0.0, 0.0]\n"
     ]
    }
   ],
   "source": [
    "# jmol file for psofile_clus, index order the same as cluster firstly defined\n",
    "posclus = open('posfile_clus_'+NAME, 'r')\n",
    "linhas = posclus.readlines()\n",
    "\n",
    "pos_clus_xyz = open('posfile_clus.xyz', 'w')\n",
    "\n",
    "print(str(len(linhas)) + '\\n', file = pos_clus_xyz)\n",
    "\n",
    "meio = linhas[0].split()\n",
    "meio = meio[2:5]\n",
    "print(meio)\n",
    "\n",
    "for i in range(0,len(linhas)):\n",
    "    diff = list(np.empty(3))\n",
    "    outro = linhas[i].split()\n",
    "    outro = outro[2:5]\n",
    "    for j in range(3):\n",
    "        diff[j] = float(outro[j]) - float(meio[j])\n",
    "    print(diff)\n",
    "    print('Fe' + '{0:12.6f} {1:12.6f} {2:12.6f}'.format(*diff), file = pos_clus_xyz)\n",
    "\n",
    "pos_clus_xyz.close()\n",
    "posclus.close()"
   ]
  }
 ],
 "metadata": {
  "kernelspec": {
   "display_name": "Python 3 (ipykernel)",
   "language": "python",
   "name": "python3"
  },
  "language_info": {
   "codemirror_mode": {
    "name": "ipython",
    "version": 3
   },
   "file_extension": ".py",
   "mimetype": "text/x-python",
   "name": "python",
   "nbconvert_exporter": "python",
   "pygments_lexer": "ipython3",
   "version": "3.11.5"
  }
 },
 "nbformat": 4,
 "nbformat_minor": 5
}
