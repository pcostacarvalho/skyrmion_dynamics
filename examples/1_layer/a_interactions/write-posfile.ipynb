{
 "cells": [
  {
   "cell_type": "code",
   "execution_count": 9,
   "id": "0cde75c8",
   "metadata": {},
   "outputs": [],
   "source": [
    "#adapted from write-inputs-cluster (Ivan)\n",
    "import numpy as np"
   ]
  },
  {
   "cell_type": "code",
   "execution_count": 10,
   "id": "c804dfb1",
   "metadata": {},
   "outputs": [],
   "source": [
    "### Read j data ###\n",
    "dataj_sup = np.loadtxt('jij.sup')\n",
    "dataj_imp = np.loadtxt('jij.fe.layer.rot')\n",
    "\n",
    "dataj_sup_vec = dataj_sup[:,2:5]\n",
    "dataj_imp_vec = dataj_imp[:,2:5]\n",
    "\n",
    "unique_dist = sorted(list(set(dataj_sup[:,6])))\n",
    "differences_dist = np.diff(unique_dist)\n",
    "\n",
    "### Definitions ####\n",
    "size_x = 100 # size of the spin lattice\n",
    "size_y = 100\n",
    "va = [0.707000,0.000000,0] ## primitive vector 1 of the lattice\n",
    "vb = [0.353500,0.612300,0] ## primitive vector 2 of the lattice\n",
    "pos_imp = 1 # position (site number) of the impurity on jfile.imp\n",
    "max_shells = 2 # for the marriage between pristine and impurity (recommended > 1). Should be a connection\n",
    "## that the pristine interaction handles\n",
    "z_length = 1 # how many surfaces are there\n",
    "initial_moment_vector = [0,0,1] # initial moment vector of the atoms\n",
    "#######"
   ]
  },
  {
   "cell_type": "code",
   "execution_count": 16,
   "id": "0b87f642",
   "metadata": {},
   "outputs": [
    {
     "name": "stdout",
     "output_type": "stream",
     "text": [
      "[1, 2, 3, 4, 5, 6, 7, 8, 9, 10, 11, 12, 13, 14, 15, 16, 17, 18, 19]\n",
      "[2, 3, 4, 5, 6, 7, 8, 9, 10, 11, 12, 13, 14, 15, 16, 17, 18, 19] 4\n"
     ]
    }
   ],
   "source": [
    "# find how many decimal places there are in va and vb\n",
    "maxn = 0\n",
    "for i in range(len(va)):\n",
    "    if int(str(va[i])[::-1].find('.')) >= maxn:\n",
    "        maxn = int(str(va[i])[::-1].find('.'))\n",
    "    if int(str(vb[i])[::-1].find('.')) >= maxn:\n",
    "        maxn = int(str(vb[i])[::-1].find('.'))\n",
    "\n",
    "index_imp = list(map(int, list(set(dataj_imp.transpose()[0]))))\n",
    "print(index_imp)\n",
    "index_imp.remove(pos_imp)\n",
    "print(index_imp, maxn)"
   ]
  },
  {
   "cell_type": "code",
   "execution_count": 30,
   "id": "06a8af14",
   "metadata": {},
   "outputs": [
    {
     "name": "stdout",
     "output_type": "stream",
     "text": [
      "writing cell... [ok]\n",
      "2\n"
     ]
    }
   ],
   "source": [
    "### print cell to inpsd.dat\n",
    "print('writing cell... ', end='')\n",
    "veca_cell = np.multiply(va,size_x+1)\n",
    "vecb_cell = np.multiply(vb,size_y+1)\n",
    "cell_file = open('cell.inpsd', 'w')\n",
    "print(\"#### cell to inpsd.dat\", file = cell_file)\n",
    "print(\"cell\" + '{0:18.10f} {1:18.10f} {2:18.10f}'.format(*veca_cell), file = cell_file)\n",
    "print(\"    \" + '{0:18.10f} {1:18.10f} {2:18.10f}'.format(*vecb_cell), file = cell_file)\n",
    "print(\"    \" + '{0:18.10f} {1:18.10f} {2:18.10f}'.format(*[0,0,z_length]), file = cell_file)\n",
    "print('[ok]')\n",
    "\n",
    "count = 0 ; thr = 1e-4\n",
    "for i in range(len(differences_dist)):\n",
    "    if count == max_shells:\n",
    "        max_distance = unique_dist[i-1]\n",
    "        break\n",
    "    else:\n",
    "        if differences_dist[i] > thr:\n",
    "            count += 1\n",
    "print(count)"
   ]
  },
  {
   "cell_type": "code",
   "execution_count": 5,
   "id": "13a0d174",
   "metadata": {},
   "outputs": [
    {
     "name": "stdout",
     "output_type": "stream",
     "text": [
      "writing posfile... [ok]\n",
      "10000\n"
     ]
    }
   ],
   "source": [
    "atom = 0 ; positions = [] ; center = 0\n",
    "posfile = open('posfile', 'w')\n",
    "jfile = open('jfile', 'w')\n",
    "\n",
    "### write posfile\n",
    "\n",
    "print('writing posfile... ', end='')\n",
    "mean = round(size_x/2, 0)\n",
    "for i in range(size_x):\n",
    "    for j in range(size_y):\n",
    "        atom += 1\n",
    "        p = (np.multiply(va,i)+np.multiply(vb,j))\n",
    "        positions.append(p.tolist())\n",
    "        print('{0:5d} {1:5d} {2:18.10f} {3:18.10f} {4:18.10f}'.format(atom, atom, *p), file = posfile)\n",
    "        if i == mean and j == mean:\n",
    "            center = atom\n",
    "positions = np.round(positions, decimals=maxn).tolist()\n",
    "print('[ok]')\n",
    "print(len(positions))"
   ]
  },
  {
   "cell_type": "code",
   "execution_count": 6,
   "id": "78b69a99",
   "metadata": {},
   "outputs": [
    {
     "name": "stdout",
     "output_type": "stream",
     "text": [
      "[[ 1.414   0.      0.    ]\n",
      " [ 1.0605 -0.6123  0.    ]\n",
      " [ 0.707  -1.2246  0.    ]\n",
      " [ 1.0605  0.6123  0.    ]\n",
      " [ 0.707   0.      0.    ]\n",
      " [ 0.3535 -0.6123  0.    ]\n",
      " [-0.     -1.2246  0.    ]\n",
      " [ 0.707   1.2246  0.    ]\n",
      " [ 0.3535  0.6123  0.    ]\n",
      " [-0.3535 -0.6123  0.    ]\n",
      " [-0.707  -1.2246  0.    ]\n",
      " [ 0.      1.2246  0.    ]\n",
      " [-0.3535  0.6123  0.    ]\n",
      " [-0.707  -0.      0.    ]\n",
      " [-1.0605 -0.6123  0.    ]\n",
      " [-0.707   1.2246  0.    ]\n",
      " [-1.0605  0.6123  0.    ]\n",
      " [-1.414   0.      0.    ]]\n"
     ]
    }
   ],
   "source": [
    "interactions_center = list(np.where(dataj_imp[:,0]==pos_imp)[0])\n",
    "dataj_imp_vec_center = dataj_imp[interactions_center,2:5]\n",
    "#print(dataj_imp_vec_center)\n",
    "sites_imp_old = list(map(int, list(dataj_imp[interactions_center,1])))\n",
    "#print(sites_imp_old)\n",
    "positions[center-1]\n",
    "print(dataj_imp_vec_center)"
   ]
  },
  {
   "cell_type": "code",
   "execution_count": 49,
   "id": "5a94ffbe",
   "metadata": {},
   "outputs": [
    {
     "name": "stdout",
     "output_type": "stream",
     "text": [
      "19\n"
     ]
    }
   ],
   "source": [
    "### write \"pure\" impurity interactions\n",
    "\n",
    "#print('writing jfile... ', end='')\n",
    "interactions_center = list(np.where(dataj_imp[:,0]==pos_imp)[0]) \n",
    "dataj_imp_vec_center = dataj_imp[interactions_center,2:5]                    #impurities positions\n",
    "sites_imp_old = list(map(int, list(dataj_imp[interactions_center,1])))       #number of the impurities\n",
    "j_center_dist = dataj_imp[interactions_center,5:7]                           #interactions from the impurities\n",
    "\n",
    "sites_imp = []\n",
    "positions_imp = [] ; all_sites_imp = []\n",
    "\n",
    "### central atom with other impurities\n",
    "all_sites_imp.append(center)\n",
    "\n",
    "for i in range(len(dataj_imp_vec_center)):\n",
    "    pos_now = np.add(positions[center-1],dataj_imp_vec_center[i])\n",
    "#    print(pos_now)\n",
    "    pos_now = np.round(pos_now, decimals=maxn)\n",
    "#    print(positions)\n",
    "    ind = int(positions.index(list(pos_now)))+1\n",
    "    sites_imp.append(ind)\n",
    "    all_sites_imp.append(ind)\n",
    "#    print(all_sites_imp)\n",
    "    positions_imp.append(pos_now)\n",
    "    print('{0:5d} {1:5d} {2:12.6f} {3:12.6f} {4:12.6f} {5:12.6f} {6:12.6f}'.format(center, ind, *dataj_imp_vec_center[i], *j_center_dist[i]), file = jfile)\n",
    "\n",
    "all_sites_imp = list(set(all_sites_imp))\n",
    "print(len(all_sites_imp))"
   ]
  },
  {
   "cell_type": "code",
   "execution_count": 51,
   "id": "47ecb2c5",
   "metadata": {},
   "outputs": [
    {
     "name": "stdout",
     "output_type": "stream",
     "text": [
      "writing system.xyz.. [ok]\n"
     ]
    }
   ],
   "source": [
    "### write a *.xyz file with 'Co' format as the impurities and 'Nb' as the pristine\n",
    "print('writing system.xyz.. ', end='')\n",
    "system_file = open('system.xyz', 'w')\n",
    "\n",
    "print(str(len(positions)) + '\\n', file = system_file)\n",
    "for i in range(len(positions)):\n",
    "    atom_now = (i + 1)\n",
    "    pos_now = positions[atom_now-1]\n",
    "    pos_now = np.round(pos_now, decimals=maxn)\n",
    "    if not atom_now in all_sites_imp:\n",
    "        print(\"Nb \" + '{0:12.6f} {1:12.6f} {2:12.6f}'.format(*pos_now), file = system_file)\n",
    "    else:\n",
    "        print(\"Co \" + '{0:12.6f} {1:12.6f} {2:12.6f}'.format(*pos_now), file = system_file)\n",
    "print('[ok]')\n"
   ]
  },
  {
   "cell_type": "code",
   "execution_count": null,
   "id": "5704425e",
   "metadata": {},
   "outputs": [],
   "source": []
  }
 ],
 "metadata": {
  "kernelspec": {
   "display_name": "Python 3 (ipykernel)",
   "language": "python",
   "name": "python3"
  },
  "language_info": {
   "codemirror_mode": {
    "name": "ipython",
    "version": 3
   },
   "file_extension": ".py",
   "mimetype": "text/x-python",
   "name": "python",
   "nbconvert_exporter": "python",
   "pygments_lexer": "ipython3",
   "version": "3.9.12"
  }
 },
 "nbformat": 4,
 "nbformat_minor": 5
}
