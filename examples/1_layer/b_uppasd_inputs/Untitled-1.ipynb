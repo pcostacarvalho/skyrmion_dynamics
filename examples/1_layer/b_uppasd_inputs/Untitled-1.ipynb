{
 "cells": [
  {
   "cell_type": "code",
   "execution_count": 2,
   "metadata": {},
   "outputs": [],
   "source": [
    "import numpy as np\n",
    "import math"
   ]
  },
  {
   "cell_type": "code",
   "execution_count": 4,
   "metadata": {},
   "outputs": [],
   "source": [
    "NAME='posfile_clus_80x40'\n",
    "\n",
    "pos_old= np.loadtxt(NAME, comments=\"#\", dtype=str)\n",
    "pos_org = np.loadtxt(\"cluster-fe-layer\", comments=\"#\", dtype=str)"
   ]
  },
  {
   "cell_type": "code",
   "execution_count": 5,
   "metadata": {},
   "outputs": [],
   "source": [
    "porg = np.asarray(pos_org[:,1:], dtype=float)\n",
    "pold = np.asarray(pos_old[:,2:], dtype=float)"
   ]
  },
  {
   "cell_type": "code",
   "execution_count": 10,
   "metadata": {},
   "outputs": [],
   "source": [
    "#CHECK THE CENTRAL ATOM\n",
    "center = 10"
   ]
  },
  {
   "cell_type": "code",
   "execution_count": 11,
   "metadata": {},
   "outputs": [],
   "source": [
    "diff = []\n",
    "for i in range(len(pold)):\n",
    "    diff.append(pold[i,:] - pold[center-1,:])\n",
    "\n",
    "diff = np.asarray(diff, dtype=float)\n",
    "#print(diff)"
   ]
  },
  {
   "cell_type": "code",
   "execution_count": 17,
   "metadata": {},
   "outputs": [],
   "source": [
    "pos_new = np.empty([len(pos_old),3])\n",
    "\n",
    "k = []\n",
    "for i in range(len(diff)):\n",
    "    teste = diff[i,:]\n",
    "#    print(teste)\n",
    "    for j in range(len(porg)):\n",
    "#        print(porg[j,:])\n",
    "        if math.isclose(teste[0],porg[j,0]) == True and math.isclose(teste[1],porg[j,1]) == True and math.isclose(teste[2],porg[j,2]) == True:\n",
    "            k.append(j)\n",
    "            pos_new[j,:] = pold[i,:]"
   ]
  },
  {
   "cell_type": "code",
   "execution_count": 16,
   "metadata": {},
   "outputs": [
    {
     "data": {
      "text/plain": [
       "array([[ 0.    ,  0.    ,  0.    ],\n",
       "       [ 1.414 ,  0.    ,  0.    ],\n",
       "       [ 1.0605, -0.6123,  0.    ],\n",
       "       [ 0.707 , -1.2246,  0.    ],\n",
       "       [ 1.0605,  0.6123,  0.    ],\n",
       "       [ 0.707 ,  0.    ,  0.    ],\n",
       "       [ 0.3535, -0.6123,  0.    ],\n",
       "       [-0.    , -1.2246,  0.    ],\n",
       "       [ 0.707 ,  1.2246,  0.    ],\n",
       "       [ 0.3535,  0.6123,  0.    ],\n",
       "       [-0.3535, -0.6123,  0.    ],\n",
       "       [-0.707 , -1.2246,  0.    ],\n",
       "       [ 0.    ,  1.2246,  0.    ],\n",
       "       [-0.3535,  0.6123,  0.    ],\n",
       "       [-0.707 , -0.    ,  0.    ],\n",
       "       [-1.0605, -0.6123,  0.    ],\n",
       "       [-0.707 ,  1.2246,  0.    ],\n",
       "       [-1.0605,  0.6123,  0.    ],\n",
       "       [-1.414 ,  0.    ,  0.    ]])"
      ]
     },
     "execution_count": 16,
     "metadata": {},
     "output_type": "execute_result"
    }
   ],
   "source": [
    "pos_clus_xyz = open(NAME + '.correct.xyz', 'w')\n",
    "\n",
    "pos_clus = open(NAME + '.correct', 'w')\n",
    "\n",
    "print(str(len(pos_new)) + '\\n', file = pos_clus_xyz)\n",
    "\n",
    "for i in range(len(pos_new)):\n",
    "    element=pos_old[k[i],0]\n",
    "#    print('{}'.format(element) + '{0:12.6f} {1:12.6f} {2:12.6f}'.format(*pos_new[i]), file = pos_clus_xyz)\n",
    "    print('{}'.format('Fe') + '{0:12.6f} {1:12.6f} {2:12.6f}'.format(*pos_new[i]), file = pos_clus_xyz)\n",
    "    print('{:3d}'.format(i+1) + '{:3d}'.format(i+1) + '{0:12.6f} {1:12.6f} {2:12.6f}'.format(*pos_new[i]), file = pos_clus)\n",
    "    \n",
    "pos_clus_xyz.close()\n",
    "pos_clus.close()"
   ]
  },
  {
   "cell_type": "code",
   "execution_count": null,
   "metadata": {},
   "outputs": [],
   "source": []
  }
 ],
 "metadata": {
  "kernelspec": {
   "display_name": "base",
   "language": "python",
   "name": "python3"
  },
  "language_info": {
   "codemirror_mode": {
    "name": "ipython",
    "version": 3
   },
   "file_extension": ".py",
   "mimetype": "text/x-python",
   "name": "python",
   "nbconvert_exporter": "python",
   "pygments_lexer": "ipython3",
   "version": "3.9.12"
  }
 },
 "nbformat": 4,
 "nbformat_minor": 2
}
