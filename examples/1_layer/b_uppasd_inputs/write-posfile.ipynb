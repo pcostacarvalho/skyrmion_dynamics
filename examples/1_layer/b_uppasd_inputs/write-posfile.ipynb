{
 "cells": [
  {
   "cell_type": "code",
   "execution_count": 1,
   "id": "0cde75c8",
   "metadata": {},
   "outputs": [],
   "source": [
    "#adapted from write-inputs-cluster (Ivan)\n",
    "import numpy as np"
   ]
  },
  {
   "cell_type": "code",
   "execution_count": 8,
   "id": "c804dfb1",
   "metadata": {},
   "outputs": [],
   "source": [
    "### Read j data ###\n",
    "dataj_imp = np.loadtxt('jij.fe.layer.rot')\n",
    "\n",
    "dataj_imp_vec = dataj_imp[:,2:5]\n",
    "\n",
    "### Definitions ####\n",
    "size_x = 80 # size of the spin lattice\n",
    "size_y = 40\n",
    "va = [0.707000,0.000000,0] ## primitive vector 1 of the lattice\n",
    "vb = [0.353500,0.612300,0] ## primitive vector 2 of the lattice\n",
    "pos_imp = 1 # position (site number) of the impurity on jfile.imp\n"
   ]
  },
  {
   "cell_type": "code",
   "execution_count": 9,
   "id": "0b87f642",
   "metadata": {},
   "outputs": [],
   "source": [
    "maxn = 0\n",
    "for i in range(len(va)):\n",
    "    if int(str(va[i])[::-1].find('.')) >= maxn:\n",
    "        maxn = int(str(va[i])[::-1].find('.'))\n",
    "    if int(str(vb[i])[::-1].find('.')) >= maxn:\n",
    "        maxn = int(str(vb[i])[::-1].find('.'))\n",
    "\n",
    "index_imp = list(map(int, list(set(dataj_imp.transpose()[0]))))\n",
    "#print(index_imp)\n",
    "index_imp.remove(pos_imp)\n",
    "#print(index_imp, maxn)"
   ]
  },
  {
   "cell_type": "code",
   "execution_count": 10,
   "id": "06a8af14",
   "metadata": {},
   "outputs": [],
   "source": []
  },
  {
   "cell_type": "code",
   "execution_count": 11,
   "id": "13a0d174",
   "metadata": {},
   "outputs": [],
   "source": [
    "atom = 0 ; positions = [] ; center = 0\n",
    "NAME=str(size_x)+'x'+str(size_y)\n",
    "\n",
    "\n",
    " #value between 0 and 1 to specify the position of the cluster inside the lattice\n",
    "fx = 1/2  \n",
    "fy = 1/2 \n",
    "\n",
    "mean_x = round(size_x*fx)\n",
    "mean_y = round(size_y*fy)\n",
    "for i in range(size_x):\n",
    "    for j in range(size_y):\n",
    "        atom += 1\n",
    "        p = (np.multiply(va,i)+np.multiply(vb,j))\n",
    "        positions.append(p.tolist())\n",
    "#        print('{0:5d} {1:5d} {2:18.10f} {3:18.10f} {4:18.10f}'.format(atom, atom, *p), file = posfile)\n",
    "        if i == mean_x and j == mean_y:\n",
    "            center = atom\n",
    "positions = np.round(positions, decimals=maxn).tolist()\n",
    "#print('[ok]')\n",
    "#print(len(positions))"
   ]
  },
  {
   "cell_type": "code",
   "execution_count": 12,
   "id": "78b69a99",
   "metadata": {},
   "outputs": [
    {
     "data": {
      "text/plain": [
       "[35.35, 12.246, 0.0]"
      ]
     },
     "execution_count": 12,
     "metadata": {},
     "output_type": "execute_result"
    }
   ],
   "source": [
    "interactions_center = list(np.where(dataj_imp[:,0]==pos_imp)[0])\n",
    "dataj_imp_vec_center = dataj_imp[interactions_center,2:5]\n",
    "#print(dataj_imp_vec_center)\n",
    "sites_imp_old = list(map(int, list(dataj_imp[interactions_center,1])))\n",
    "#print(sites_imp_old)\n",
    "positions[center-1]\n",
    "#print(dataj_imp_vec_center)"
   ]
  },
  {
   "cell_type": "code",
   "execution_count": 13,
   "id": "5a94ffbe",
   "metadata": {},
   "outputs": [],
   "source": [
    "### write \"pure\" impurity interactions\n",
    "\n",
    "interactions_center = list(np.where(dataj_imp[:,0]==pos_imp)[0]) \n",
    "dataj_imp_vec_center = dataj_imp[interactions_center,2:5]                    #impurities positions\n",
    "sites_imp_old = list(map(int, list(dataj_imp[interactions_center,1])))       #number of the impurities\n",
    "j_center_dist = dataj_imp[interactions_center,5:7]                           #interactions from the impurities\n",
    "\n",
    "sites_imp = []\n",
    "positions_imp = [] ; all_sites_imp = []\n",
    "\n",
    "### central atom with other impurities\n",
    "all_sites_imp.append(center)\n",
    "\n",
    "for i in range(len(dataj_imp_vec_center)):\n",
    "    pos_now = np.add(positions[center-1],dataj_imp_vec_center[i])\n",
    "#    print(pos_now)\n",
    "    pos_now = np.round(pos_now, decimals=maxn)\n",
    "#    print(positions)\n",
    "    ind = int(positions.index(list(pos_now)))+1\n",
    "    sites_imp.append(ind)\n",
    "    all_sites_imp.append(ind)\n",
    "#    print(all_sites_imp)\n",
    "    positions_imp.append(pos_now)\n",
    "\n",
    "all_sites_imp = list(set(all_sites_imp))\n",
    "#print(len(all_sites_imp))"
   ]
  },
  {
   "cell_type": "code",
   "execution_count": 15,
   "id": "47ecb2c5",
   "metadata": {},
   "outputs": [
    {
     "name": "stdout",
     "output_type": "stream",
     "text": [
      "writing file .xyz and posfile_clus...[ok]\n"
     ]
    }
   ],
   "source": [
    "### write a *.xyz file with 'Fe' format as the impurities and 'Nb' as the pristine\n",
    "print('writing file .xyz and posfile_clus...', end='')\n",
    "system_file = open('system_'+NAME+'.xyz', 'w')\n",
    "posclus = open('posfile_clus_'+NAME, 'w')\n",
    "\n",
    "print(str(len(positions)) + '\\n', file = system_file)\n",
    "count = 1\n",
    "for i in range(len(positions)):\n",
    "    atom_now = (i + 1)\n",
    "    pos_now = positions[atom_now-1]\n",
    "    pos_now = np.round(pos_now, decimals=maxn)\n",
    "    if not atom_now in all_sites_imp:\n",
    "        print(\"Fe\" + '{0:12.6f} {1:12.6f} {2:12.6f}'.format(*pos_now), file = system_file)\n",
    "    else:\n",
    "        print(\"Nb \" + '{0:12.6f} {1:12.6f} {2:12.6f}'.format(*pos_now), file = system_file)\n",
    "        print('%3s%3s' %(count, count)  + '{0:12.6f} {1:12.6f} {2:12.6f}'.format(*pos_now), file = posclus)\n",
    "        count += 1\n",
    "\n",
    "system_file.close()\n",
    "posclus.close()\n",
    "\n",
    "print('[ok]')\n"
   ]
  },
  {
   "cell_type": "code",
   "execution_count": null,
   "id": "5704425e",
   "metadata": {},
   "outputs": [],
   "source": []
  }
 ],
 "metadata": {
  "kernelspec": {
   "display_name": "Python 3 (ipykernel)",
   "language": "python",
   "name": "python3"
  },
  "language_info": {
   "codemirror_mode": {
    "name": "ipython",
    "version": 3
   },
   "file_extension": ".py",
   "mimetype": "text/x-python",
   "name": "python",
   "nbconvert_exporter": "python",
   "pygments_lexer": "ipython3",
   "version": "3.9.12"
  }
 },
 "nbformat": 4,
 "nbformat_minor": 5
}
